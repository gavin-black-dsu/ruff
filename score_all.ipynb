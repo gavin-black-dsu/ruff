{
 "cells": [
  {
   "cell_type": "code",
   "execution_count": null,
   "id": "c9f24450-0ae4-4eb6-9ca2-5c3833d6f9f4",
   "metadata": {},
   "outputs": [],
   "source": [
    "import os\n",
    "import subprocess\n",
    "from tqdm import tqdm\n",
    "from trial_config import read_config"
   ]
  },
  {
   "cell_type": "code",
   "execution_count": null,
   "id": "14f16a3e-f5c3-4f64-acff-cbbd5f807a59",
   "metadata": {},
   "outputs": [],
   "source": [
    "python_path = '/home/g/miniconda3/envs/amira/bin/python'\n",
    "config_file = \"config.ini\""
   ]
  },
  {
   "cell_type": "code",
   "execution_count": null,
   "id": "0dde96e5-c574-40ad-a0ab-ac6e1a660b02",
   "metadata": {},
   "outputs": [],
   "source": [
    "config = read_config(config_file)\n",
    "trial = config[\"name\"]\n",
    "directory_path = config[\"cleaned_dir\"]\n",
    "print(f\"Running Trial: {trial} from {directory_path}\") "
   ]
  },
  {
   "cell_type": "code",
   "execution_count": null,
   "id": "aca8cf10-20c5-45f6-acf0-07566cc189ae",
   "metadata": {},
   "outputs": [],
   "source": [
    "# Get all files that end with .parquet\n",
    "files = [f for f in os.listdir(directory_path) if f.endswith('.parquet')]\n",
    "\n",
    "# Loop through each file with a progress bar\n",
    "for filename in tqdm(files, desc=\"Processing files\"):\n",
    "    # Remove the extension to get the name without it\n",
    "    name_without_extension = os.path.splitext(filename)[0]\n",
    "    # Construct the full path of the file\n",
    "    full_file_path = os.path.join(directory_path, filename)\n",
    "    # Construct the command to run\n",
    "    command = [python_path, \"score_samples.py\", name_without_extension, full_file_path]\n",
    "    # Execute the command and wait for it to finish\n",
    "    subprocess.run(command, check=True)\n"
   ]
  },
  {
   "cell_type": "code",
   "execution_count": null,
   "id": "85c90eea-6ef8-4873-b883-0f6592f57502",
   "metadata": {},
   "outputs": [],
   "source": []
  }
 ],
 "metadata": {
  "kernelspec": {
   "display_name": "amira",
   "language": "python",
   "name": "amira"
  },
  "language_info": {
   "codemirror_mode": {
    "name": "ipython",
    "version": 3
   },
   "file_extension": ".py",
   "mimetype": "text/x-python",
   "name": "python",
   "nbconvert_exporter": "python",
   "pygments_lexer": "ipython3",
   "version": "3.9.18"
  }
 },
 "nbformat": 4,
 "nbformat_minor": 5
}
