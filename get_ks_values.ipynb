{
 "cells": [
  {
   "cell_type": "code",
   "execution_count": 1,
   "id": "4659750d-26d9-46b7-9284-8380498d404a",
   "metadata": {},
   "outputs": [],
   "source": [
    "import os\n",
    "from tqdm import tqdm, trange\n",
    "import pandas as pd\n",
    "\n",
    "from statistics_tests import perform_ks, estimate_power_with_data\n",
    "from seed_data_mappers import model_dict, file_to_directory, model_dirs\n",
    "from dataframe_helpers import update_dataframe, extract_prefix, truncate_error\n",
    "from scoring import normalize_resources, scaled_resources, transformer_embeddings, quantized_vectors, make_anomaly_scores"
   ]
  },
  {
   "cell_type": "code",
   "execution_count": 2,
   "id": "30a58932-4f1c-410b-9c9e-c5cd78740cf7",
   "metadata": {},
   "outputs": [],
   "source": [
    "directory = './data/resource_results'\n",
    "corpora_dir = './corpora'\n",
    "cleaned_dir = \"./data/cleaned_resources\"\n",
    "\n",
    "max_errors = 35 # Amount of error messages considered too many\n",
    "n_simulations=1000 # Number of Monte-Carlo simulations \n",
    "ks_a = 0.05 # Cutoff for null hypothesis\n",
    "k = 100 # Number of distances for anomaly detection\n",
    "limit_atheris = True # Take a smaller amount of Atheris samples\n",
    "atheris_entries = 10_000 # The number of atheris to take if limi_atheris\n",
    "\n",
    "number_of_samples = 100 # Final number of samples to produce"
   ]
  },
  {
   "cell_type": "code",
   "execution_count": 3,
   "id": "a9422aec-0b86-43ea-8e5d-3759e57c7038",
   "metadata": {},
   "outputs": [],
   "source": [
    "# Score coefficients\n",
    "alpha_embed = 1 # Input embedding anomaly weight\n",
    "beta_scaled = 1 # Scaled resource values weight\n",
    "gamma_anom = 1 # Quantized resource anomaly weight\n",
    "\n",
    "\n",
    "scaling = {\n",
    "       'Output Size (B)': 1,\n",
    "       'Output Entropy (bits per symbol)' : 1,\n",
    "       'Top Function Calls': 1, \n",
    "       'Peak Memory (B)': 1,\n",
    "       'Final Memory (B)': 1,\n",
    "       'CPU (ms)': 1, \n",
    "       'SLOC': 1,\n",
    "       'Instructions': 1, \n",
    "}"
   ]
  },
  {
   "cell_type": "code",
   "execution_count": 6,
   "id": "282c903f-4408-460c-b77f-d58c28ad73af",
   "metadata": {},
   "outputs": [
    {
     "name": "stdout",
     "output_type": "stream",
     "text": [
      "50\n"
     ]
    }
   ],
   "source": [
    "prefixes = extract_prefix(directory)\n",
    "unique = set(prefixes)\n",
    "print(len(unique))\n",
    "unique = [\"xlrd_open_workbook\"]"
   ]
  },
  {
   "cell_type": "code",
   "execution_count": 7,
   "id": "68deb834-c13f-49f2-ae12-39f039de4495",
   "metadata": {},
   "outputs": [
    {
     "name": "stderr",
     "output_type": "stream",
     "text": [
      "  0%|                                                                                             | 0/1 [00:00<?, ?it/s]"
     ]
    },
    {
     "name": "stdout",
     "output_type": "stream",
     "text": [
      "  xlrd_open_workbook max error: 7\n",
      "Current DF: 110122\n"
     ]
    },
    {
     "name": "stderr",
     "output_type": "stream",
     "text": [
      "100%|█████████████████████████████████████████████████████████████████████████████████████| 1/1 [00:01<00:00,  1.97s/it]"
     ]
    },
    {
     "name": "stdout",
     "output_type": "stream",
     "text": [
      "Error reading file ./corpora/xlrd.open_workbook/gpt-3.5-turbo/1.0/merge_corpus/.ipynb_checkpoints: [Errno 2] No such file or directory: './corpora/xlrd.open_workbook/gpt-3.5-turbo/1.0/merge_corpus/.ipynb_checkpoints'\n",
      "100011\n",
      "20924\n"
     ]
    },
    {
     "name": "stderr",
     "output_type": "stream",
     "text": [
      "\n"
     ]
    }
   ],
   "source": [
    "dfs = {}\n",
    "# Something is wrong with phonenumbers_parse, ftplib_FTP, exrex_getone\n",
    "for x in tqdm(unique):\n",
    "    df_concat = []\n",
    "    for v in model_dict.values():\n",
    "        file_path = f\"{directory}/{x}_{v}.parquet\"\n",
    "        if not os.path.exists(file_path):\n",
    "            print(f\"!!!Missing!!! {file_path}\")\n",
    "            continue\n",
    "        else: \n",
    "            dft = pd.read_parquet(file_path)\n",
    "            # Clean up of top function calls, which sometimes gets a /\n",
    "            dft[\"Top Function Calls\"] = dft[\"Top Function Calls\"].str.split('/').str[0]\n",
    "            dft[\"Top Function Calls\"] = pd.to_numeric(dft[\"Top Function Calls\"])\n",
    "            df_concat.append( dft )\n",
    "    current_df = pd.concat(df_concat, axis=0)\n",
    "    current_df.reset_index(drop=True, inplace=True)\n",
    "    if len(current_df[\"Error\"].unique()) > max_errors: \n",
    "        current_df = truncate_error(current_df, x)\n",
    "        \n",
    "        len_error = len(current_df[\"Error\"].unique())\n",
    "        print(f\"  {x} max error: {len_error}\")\n",
    "        # Still didn't reduce enough\n",
    "        assert len_error <= max_errors, f\"{x}: {len_error} Unique Errors\"\n",
    "    current_df = normalize_resources(current_df)\n",
    "    print(f\"Current DF: {len(current_df)}\")\n",
    "    current_df = update_dataframe(current_df) \n",
    "    # Remove any checkpoints that snuck in\n",
    "    current_df = current_df[~current_df['Sample'].str.contains('ipynb_checkpoints', na=False)]\n",
    "\n",
    "    current_df.to_parquet(f\"{cleaned_dir}/{x}.parquet\")\n",
    "    dfs[x] = current_df"
   ]
  },
  {
   "cell_type": "code",
   "execution_count": null,
   "id": "8befb348-8bbf-4da1-8d59-4f2d1b7344b9",
   "metadata": {},
   "outputs": [],
   "source": []
  },
  {
   "cell_type": "code",
   "execution_count": 6,
   "id": "b16da78d-1bbe-42b1-92d5-4c5ea83156b3",
   "metadata": {},
   "outputs": [
    {
     "data": {
      "text/plain": [
       "'simplejson_loads'"
      ]
     },
     "execution_count": 6,
     "metadata": {},
     "output_type": "execute_result"
    }
   ],
   "source": [
    "cur_test = list(dfs.keys())[-1]\n",
    "cur_test"
   ]
  },
  {
   "cell_type": "code",
   "execution_count": 7,
   "id": "e0284784-d321-4fbb-8c6c-3502b9b6df46",
   "metadata": {},
   "outputs": [
    {
     "data": {
      "text/plain": [
       "array(['./corpora/simplejson.loads/random_data',\n",
       "       './corpora/simplejson.loads/atheris_output',\n",
       "       './corpora/simplejson.loads/gpt-3.5-turbo/1.0/merge_corpus',\n",
       "       './corpora/simplejson.loads/gpt-4-turbo-preview/1.0/merge_corpus',\n",
       "       './corpora/simplejson.loads/claude-3-opus-20240229/1.0/merge_corpus',\n",
       "       './corpora/simplejson.loads/claude-instant-1.2/1.0/merge_corpus',\n",
       "       './corpora/simplejson.loads/gemini-1.0-pro/1.0/merge_corpus'],\n",
       "      dtype=object)"
      ]
     },
     "execution_count": 7,
     "metadata": {},
     "output_type": "execute_result"
    }
   ],
   "source": [
    "dfs[cur_test][\"Corpus Location\"].unique()"
   ]
  },
  {
   "cell_type": "code",
   "execution_count": 7,
   "id": "5a2adef8-e312-4043-a5a7-6840a6bcf8ab",
   "metadata": {},
   "outputs": [],
   "source": [
    "df = dfs[cur_test]\n",
    "df = df.sample(frac=1).reset_index(drop=True)\n",
    "\n",
    "if limit_atheris:\n",
    "    atheris_df = df[df['Corpus'] == 'Atheris']\n",
    "    other_df = df[df['Corpus'] != 'Atheris']\n",
    "    atheris_df = atheris_df.sample(n=atheris_entries, random_state=1) \n",
    "    df = pd.concat([atheris_df, other_df], ignore_index=True)"
   ]
  },
  {
   "cell_type": "code",
   "execution_count": 8,
   "id": "34074b52-deab-4126-bedb-14dc6a02b6d8",
   "metadata": {},
   "outputs": [
    {
     "name": "stdout",
     "output_type": "stream",
     "text": [
      "Loading Model\n"
     ]
    },
    {
     "name": "stderr",
     "output_type": "stream",
     "text": [
      "/home/g/miniconda3/envs/amira/lib/python3.9/site-packages/torch/_utils.py:831: UserWarning: TypedStorage is deprecated. It will be removed in the future and UntypedStorage will be the only storage class. This should only matter to you if you are using storages directly.  To access UntypedStorage directly, use tensor.untyped_storage() instead of tensor.storage()\n",
      "  return self.fget.__get__(instance, owner)()\n"
     ]
    },
    {
     "name": "stdout",
     "output_type": "stream",
     "text": [
      "Running Batches\n",
      "0.6635343\n",
      "0.5986646374936032\n",
      "0.0032125711\n"
     ]
    }
   ],
   "source": [
    "# Apply Scoring\n",
    "\n",
    "if alpha_embed > 0: # Skip the embeddings if not part of score\n",
    "    df = transformer_embeddings(df)\n",
    "    df = make_anomaly_scores(df, \"Embeddings\", k)\n",
    "else:\n",
    "    df[\"Embeddings Distances\"] = 0\n",
    "\n",
    "if gamma_anom > 0: # Skip resource anomalies if not part of score\n",
    "    df = quantized_vectors(df)\n",
    "    df = make_anomaly_scores(df, \"Resources\", k)\n",
    "else:\n",
    "    df[\"Resources Distances\"] = 0\n",
    "    \n",
    "# No need to skip scaling, it produces minimal overhead\n",
    "df = scaled_resources(df)\n",
    "\n",
    "print(df[\"Embeddings Distances\"].max())\n",
    "print(df[\"Scaled Resources\"].max())\n",
    "print(df[\"Resources Distances\"].max())"
   ]
  },
  {
   "cell_type": "code",
   "execution_count": 9,
   "id": "797ab32d-7ef4-45c8-a499-558221ec4d3f",
   "metadata": {},
   "outputs": [
    {
     "name": "stdout",
     "output_type": "stream",
     "text": [
      "0.36140387733411483\n"
     ]
    }
   ],
   "source": [
    "\n",
    "summed_coefficients = alpha_embed + beta_scaled + gamma_anom\n",
    "# Requires the above be run first\n",
    "df['Score'] = ( alpha_embed * df['Embeddings Distances'] + \n",
    "                beta_scaled * df['Scaled Resources'] + \n",
    "                gamma_anom * df['Resources Distances']) / summed_coefficients\n",
    "print(df[\"Score\"].max())"
   ]
  },
  {
   "cell_type": "code",
   "execution_count": 10,
   "id": "231e0b42-3228-4e29-b067-b48b2c9dbfea",
   "metadata": {},
   "outputs": [
    {
     "data": {
      "text/plain": [
       "array(['Atheris', 'Random', 'Claude-Opus', 'Gemini-1.0', 'GPT-4',\n",
       "       'Claude-Instant', 'GPT-3'], dtype=object)"
      ]
     },
     "execution_count": 10,
     "metadata": {},
     "output_type": "execute_result"
    }
   ],
   "source": [
    "field = \"Resources Distances\" #\"Scaled Resources\" #\"Instructions\" \"Peak Memory (B)\"\n",
    "df['Corpus'].unique()"
   ]
  },
  {
   "cell_type": "code",
   "execution_count": 11,
   "id": "4ebb5529-4f0f-4ede-b7e8-df954a21b638",
   "metadata": {},
   "outputs": [
    {
     "name": "stderr",
     "output_type": "stream",
     "text": [
      " 14%|████████████▏                                                                        | 1/7 [00:11<01:10, 11.68s/it]/home/g/ruff/statistics_tests.py:18: RuntimeWarning: ks_2samp: Exact calculation unsuccessful. Switching to method=asymp.\n",
      "  statistic, p_value = ks_2samp(sample1, sample2)\n",
      "100%|█████████████████████████████████████████████████████████████████████████████████████| 7/7 [00:36<00:00,  5.18s/it]\n"
     ]
    }
   ],
   "source": [
    "corpus_comparisons = {}\n",
    "\n",
    "for c1 in tqdm(model_dirs.keys()):\n",
    "    corpus_comparisons[c1] = {}\n",
    "    for c2 in model_dirs.keys():\n",
    "        corpus_comparisons[c1][c2] = {}\n",
    "        # print(f\"{c1} - {c2}\")\n",
    "        data1 = df[df['Corpus'] == c1][field]\n",
    "        data2 = df[df['Corpus'] == c2][field]\n",
    "        initial_statistic, initial_p_value, hypothesis = perform_ks(data1, data2, ks_a)\n",
    "        power = estimate_power_with_data(data1, data2, n_simulations, ks_a)\n",
    "        # print(f\"Estimated power of the KS test: {power}\")\n",
    "        corpus_comparisons[c1][c2][\"KS\"] = initial_statistic\n",
    "        corpus_comparisons[c1][c2][\"p-value\"] = initial_p_value\n",
    "        corpus_comparisons[c1][c2][\"hypothesis\"] = hypothesis\n",
    "        corpus_comparisons[c1][c2][\"power\"] = power"
   ]
  },
  {
   "cell_type": "raw",
   "id": "1e724a70-1d18-4dcf-bae7-c72e40581519",
   "metadata": {},
   "source": [
    "corpus_comparisons"
   ]
  },
  {
   "cell_type": "raw",
   "id": "921816ca-1adb-40b0-9beb-40a34efc3246",
   "metadata": {},
   "source": [
    "table_builder = \"\"\n",
    "skip_table = [\"Random\"]\n",
    "for c1 in tqdm(model_dirs.keys()):\n",
    "    if c1 in skip_table: continue\n",
    "    KSs = []\n",
    "    Ps = []\n",
    "    Pows = []\n",
    "\n",
    "    \n",
    "    table_builder +=  \"\\\\midrule\\n\"\n",
    "    table_builder += f\"\\\\textbf{{{c1}}}  \\\\\\\\\\n\"\n",
    "    for c2 in model_dirs.keys():\n",
    "        bold_start = \"\\\\textbf{\"\n",
    "        bold_end = \"}\"\n",
    "        if c2 in skip_table: continue\n",
    "        KSs.append(corpus_comparisons[c1][c2][\"KS\"])\n",
    "        Ps.append(corpus_comparisons[c1][c2][\"p-value\"])\n",
    "        if corpus_comparisons[c1][c2][\"hypothesis\"] == 0:\n",
    "            bold_start = \"\\\\textbf{\"\n",
    "            bold_end = \"}\"\n",
    "        Pows.append(corpus_comparisons[c1][c2][\"power\"])\n",
    "\n",
    "    for row_name, row_dict in [(\"KS\", KSs), (\"P\", Ps), (\"Pow\", Pows)]:\n",
    "        table_builder += f\"\\\\quad {row_name} \"\n",
    "        for v in row_dict:\n",
    "            table_builder += f\"& {bold_start}{v:0.2f}{bold_end} \"\n",
    "        table_builder += \"\\\\\\\\ \\n\"\n",
    "    \n",
    "    \n",
    "print(table_builder)"
   ]
  },
  {
   "cell_type": "code",
   "execution_count": null,
   "id": "9f4ff667-f0a5-43b7-8ef3-1c19135367eb",
   "metadata": {},
   "outputs": [],
   "source": []
  },
  {
   "cell_type": "code",
   "execution_count": 12,
   "id": "0169342e-4560-4184-a7bb-66f70a0df850",
   "metadata": {},
   "outputs": [],
   "source": [
    "top_samples = df.nlargest(number_of_samples, 'Score')"
   ]
  },
  {
   "cell_type": "code",
   "execution_count": 13,
   "id": "814d135d-0453-458f-bff2-edc3b47c5103",
   "metadata": {},
   "outputs": [
    {
     "name": "stdout",
     "output_type": "stream",
     "text": [
      "{'Atheris': 63, 'Random': 25, 'LLM': 12}\n"
     ]
    }
   ],
   "source": [
    "counts = { \"Atheris\": 0,\n",
    "           \"Random\": 0,\n",
    "           \"LLM\": 0,\n",
    "         }\n",
    "count = 0\n",
    "for index, row in top_samples.iterrows():\n",
    "    count += 1\n",
    "    corpus = row['Corpus']\n",
    "    sample = row['Sample']\n",
    "    score = row['Score']\n",
    "    \n",
    "    c_dir = file_to_directory[f\"file_{cur_test}.py\"]\n",
    "    sample_dir = f\"{corpora_dir}/{c_dir}/{model_dirs[corpus]}/{sample}\"\n",
    "    \n",
    "    if corpus != \"Atheris\" and corpus != \"Random\":\n",
    "        corpus = \"LLM\"\n",
    "    counts[corpus] += 1\n",
    "    #print(sample_dir)\n",
    "print(counts)"
   ]
  },
  {
   "cell_type": "code",
   "execution_count": 14,
   "id": "70d43435-e299-48b9-8bd0-bfc8cdfd8f8a",
   "metadata": {},
   "outputs": [],
   "source": [
    "results_dictionary = {\n",
    " \"coefficients\": { \"alpha_embed\": alpha_embed, \"beta_scaled\": beta_scaled, \"gamma_anom\": gamma_anom},\n",
    " \"scaling\": scaling,\n",
    " \"counts\": counts,\n",
    " \"comparisons\": corpus_comparisons\n",
    "}"
   ]
  },
  {
   "cell_type": "code",
   "execution_count": 15,
   "id": "929e1bae-6b8c-4fa2-a0a9-8420d7fe829f",
   "metadata": {},
   "outputs": [],
   "source": [
    "#df.to_parquet(f\"./score_results/{cur_test}.parquet\")"
   ]
  },
  {
   "cell_type": "markdown",
   "id": "e2fda75d-2301-482d-b082-f09e02209c04",
   "metadata": {},
   "source": [
    "# Visualization"
   ]
  },
  {
   "cell_type": "code",
   "execution_count": 16,
   "id": "b505911b-bb83-4235-8b1a-9a737be47046",
   "metadata": {},
   "outputs": [],
   "source": [
    "import seaborn as sns\n",
    "import matplotlib.pyplot as plt"
   ]
  },
  {
   "cell_type": "code",
   "execution_count": 17,
   "id": "1bf0677d-60a1-4f4a-a909-4cb53ee369e3",
   "metadata": {},
   "outputs": [
    {
     "name": "stderr",
     "output_type": "stream",
     "text": [
      "/home/g/miniconda3/envs/amira/lib/python3.9/site-packages/seaborn/_oldcore.py:1498: FutureWarning: is_categorical_dtype is deprecated and will be removed in a future version. Use isinstance(dtype, CategoricalDtype) instead\n",
      "  if pd.api.types.is_categorical_dtype(vector):\n",
      "/home/g/miniconda3/envs/amira/lib/python3.9/site-packages/seaborn/_oldcore.py:1119: FutureWarning: use_inf_as_na option is deprecated and will be removed in a future version. Convert inf values to NaN before operating instead.\n",
      "  with pd.option_context('mode.use_inf_as_na', True):\n",
      "/home/g/miniconda3/envs/amira/lib/python3.9/site-packages/seaborn/_oldcore.py:1498: FutureWarning: is_categorical_dtype is deprecated and will be removed in a future version. Use isinstance(dtype, CategoricalDtype) instead\n",
      "  if pd.api.types.is_categorical_dtype(vector):\n",
      "/home/g/miniconda3/envs/amira/lib/python3.9/site-packages/seaborn/_oldcore.py:1119: FutureWarning: use_inf_as_na option is deprecated and will be removed in a future version. Convert inf values to NaN before operating instead.\n",
      "  with pd.option_context('mode.use_inf_as_na', True):\n",
      "/home/g/miniconda3/envs/amira/lib/python3.9/site-packages/seaborn/_oldcore.py:1498: FutureWarning: is_categorical_dtype is deprecated and will be removed in a future version. Use isinstance(dtype, CategoricalDtype) instead\n",
      "  if pd.api.types.is_categorical_dtype(vector):\n",
      "/home/g/miniconda3/envs/amira/lib/python3.9/site-packages/seaborn/_oldcore.py:1119: FutureWarning: use_inf_as_na option is deprecated and will be removed in a future version. Convert inf values to NaN before operating instead.\n",
      "  with pd.option_context('mode.use_inf_as_na', True):\n"
     ]
    },
    {
     "data": {
      "image/png": "[encoded data removed]",
      "text/plain": [
       "<Figure size 1000x600 with 1 Axes>"
      ]
     },
     "metadata": {},
     "output_type": "display_data"
    }
   ],
   "source": [
    "sns.set(style=\"darkgrid\")\n",
    "\n",
    "col_kde = \"Score\" #\"Embeddings Distances\" \"Scaled Resources\" \"Score\" \"Resources Distances\" \"Embeddings Distances\"\n",
    "\n",
    "df['Plot Corpus'] = df['Corpus'].apply(lambda x: x if x in ['Atheris', 'Random'] else 'LLM')\n",
    "\n",
    "# Create a single plot with KDEs for each unique corpus\n",
    "plt.figure(figsize=(10, 6))  # Adjust the figure size as needed\n",
    "for name, group in df.groupby('Plot Corpus'):\n",
    "    sns.kdeplot(data=group[col_kde], fill=True, common_norm=False, alpha=0.5, label=f'{name}')\n",
    "\n",
    "plt.title(f'{col_kde} KDE for {cur_test}')\n",
    "plt.xlabel(col_kde)\n",
    "plt.ylabel('Density')\n",
    "plt.legend(title='Corpus')\n",
    "#plt.xlim([-0.2, 0.35])\n",
    "plt.savefig(f'images/KDE_{col_kde}_{cur_test}.png', bbox_inches='tight')\n",
    "plt.show()"
   ]
  },
  {
   "cell_type": "code",
   "execution_count": null,
   "id": "5f9e9646-2436-4bc0-86ca-6bb752d89c71",
   "metadata": {},
   "outputs": [],
   "source": []
  },
  {
   "cell_type": "code",
   "execution_count": null,
   "id": "60820297-4331-4a80-be11-cec508bea334",
   "metadata": {},
   "outputs": [],
   "source": []
  }
 ],
 "metadata": {
  "kernelspec": {
   "display_name": "amira",
   "language": "python",
   "name": "amira"
  },
  "language_info": {
   "codemirror_mode": {
    "name": "ipython",
    "version": 3
   },
   "file_extension": ".py",
   "mimetype": "text/x-python",
   "name": "python",
   "nbconvert_exporter": "python",
   "pygments_lexer": "ipython3",
   "version": "3.9.18"
  }
 },
 "nbformat": 4,
 "nbformat_minor": 5
}
